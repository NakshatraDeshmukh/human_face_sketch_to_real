{
 "cells": [
  {
   "cell_type": "code",
   "execution_count": 2,
   "id": "2c34e189",
   "metadata": {},
   "outputs": [
    {
     "name": "stdout",
     "output_type": "stream",
     "text": [
      "Processing complete. Left and right parts saved in: real_dataset/testing_dataset/\n"
     ]
    }
   ],
   "source": [
    "import cv2\n",
    "import os\n",
    "import numpy as np\n",
    "\n",
    "# Set the path to your dataset\n",
    "dataset_path = \"test/test/\"  # Replace with the path to your dataset folder\n",
    "output_path = \"real_dataset/testing_dataset/\"  # Replace with the desired output folder path\n",
    "\n",
    "# Create the output folder if it doesn't exist\n",
    "os.makedirs(output_path, exist_ok=True)\n",
    "\n",
    "# Function to split an image into two equal parts horizontally\n",
    "def split_image(image):\n",
    "    height, width = image.shape[:2]\n",
    "    split_point = width // 2\n",
    "    left_part = image[:, :split_point]\n",
    "    right_part = image[:, split_point:]\n",
    "    return left_part, right_part\n",
    "\n",
    "# Iterate through each image in the dataset\n",
    "for filename in os.listdir(dataset_path):\n",
    "    if filename.endswith(\".jpg\") or filename.endswith(\".png\"):  # Add more file extensions if needed\n",
    "        # Load the image\n",
    "        image_path = os.path.join(dataset_path, filename)\n",
    "        original_image = cv2.imread(image_path)\n",
    "\n",
    "        # Split the image into two equal parts\n",
    "        left_part, right_part = split_image(original_image)\n",
    "\n",
    "        # Save left and right parts\n",
    "        left_part_filename = os.path.join(output_path, \"faceImage_\" + filename)\n",
    "        right_part_filename = os.path.join(output_path, \"EdgedImage_\" + filename)\n",
    "\n",
    "        cv2.imwrite(left_part_filename, left_part)\n",
    "        cv2.imwrite(right_part_filename, right_part)\n",
    "\n",
    "print(\"Processing complete. Left and right parts saved in:\", output_path)\n"
   ]
  },
  {
   "cell_type": "code",
   "execution_count": null,
   "id": "6672cf71",
   "metadata": {},
   "outputs": [],
   "source": []
  }
 ],
 "metadata": {
  "kernelspec": {
   "display_name": "Python 3 (ipykernel)",
   "language": "python",
   "name": "python3"
  },
  "language_info": {
   "codemirror_mode": {
    "name": "ipython",
    "version": 3
   },
   "file_extension": ".py",
   "mimetype": "text/x-python",
   "name": "python",
   "nbconvert_exporter": "python",
   "pygments_lexer": "ipython3",
   "version": "3.9.13"
  }
 },
 "nbformat": 4,
 "nbformat_minor": 5
}
